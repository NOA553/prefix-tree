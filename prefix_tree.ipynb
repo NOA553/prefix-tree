{
  "cells": [
    {
      "cell_type": "markdown",
      "metadata": {
        "id": "view-in-github",
        "colab_type": "text"
      },
      "source": [
        "<a href=\"https://colab.research.google.com/github/NOA553/prefix-tree/blob/main/prefix_tree.ipynb\" target=\"_parent\"><img src=\"https://colab.research.google.com/assets/colab-badge.svg\" alt=\"Open In Colab\"/></a>"
      ]
    },
    {
      "cell_type": "markdown",
      "metadata": {
        "id": "Xc-t-_bCVoSm"
      },
      "source": [
        "בס\"ד\n",
        "\n",
        "\n",
        "\n",
        "מגישה:נעה בבצ'יק\n"
      ]
    },
    {
      "cell_type": "code",
      "execution_count": null,
      "metadata": {
        "id": "8-iU6bOVVrLc"
      },
      "outputs": [],
      "source": [
        "class TrieNode():\n",
        "\n",
        "    def __init__(self):\n",
        "        self.letter = \"*\"\n",
        "        self.children_list = []\n",
        "        self.is_last_letter = True\n",
        "\n",
        "    def insert(self, word):\n",
        "\n",
        "        if (len(word) == 0):\n",
        "            return\n",
        "        if ((self.letter == \"*\") and (len(self.children_list) == 0)):  # אם המילון ריק נוסיף את המילה\n",
        "            p = TrieNode()\n",
        "            self.children_list += [p]\n",
        "            self.children_list[-1].letter = word[0]\n",
        "            word = word[1:]\n",
        "            if (len(word) > 0):\n",
        "                self.children_list[-1].insert(word)\n",
        "            else:\n",
        "                m = TrieNode()  # אם זו הייתה האות האחרונה במילה נוסיף לנוד הזו נוד נוספת שתסמן שזו סוף מילה\n",
        "                self.children_list[-1].children_list += [m]\n",
        "            return\n",
        "            # אם יש לצומת בנים\n",
        "        for l in self.children_list:\n",
        "            if (l.letter == word[0]):\n",
        "                word = word[1:]\n",
        "                if (len(word) == 0):  # אם זו סוף המילה נוסיפה כסוף מילה אם יש צורך\n",
        "                    flag = 1\n",
        "                    for j in l.children_list:\n",
        "                        if (j.letter == \"*\"):\n",
        "                            flag = 0\n",
        "                    if (flag):  # אם לא סומנה מילה זו עדיין אז נוסיף סיום שלה ברשימה של הבנים של סוף המילה הזו\n",
        "                        self.children_list.remove(l)\n",
        "                        l.children_list += [TrieNode()]\n",
        "                        self.children_list += [l]\n",
        "                        return\n",
        "                else:\n",
        "                    self.children_list.remove(l)\n",
        "                    self.children_list += [l]\n",
        "                    self.children_list[-1].insert(word)\n",
        "                    return\n",
        "            # אם האות הזו לא קיימת אצל הבנים נוסיף אותה\n",
        "        p = TrieNode()\n",
        "        self.children_list += [p]\n",
        "        self.children_list[-1].letter = word[0]\n",
        "        word = word[1:]\n",
        "        if (len(word) > 0):\n",
        "            self.children_list[-1].insert(word)\n",
        "            return\n",
        "        else:\n",
        "            self.children_list[-1].children_list += [TrieNode()]\n",
        "            return\n",
        "\n",
        "    def is_exist(self, word):\n",
        "        if (len(word) == 0):\n",
        "            return\n",
        "        if (self.letter == \"*\" and (len(self.children_list) > 0)):\n",
        "            for l in self.children_list:\n",
        "                if (l.letter == word[0]):\n",
        "                    word2=word\n",
        "                    word = word[1:]\n",
        "\n",
        "                    if (len(word) == 0):\n",
        "                        for j in l.children_list:\n",
        "                            if (j.letter == \"*\"):\n",
        "                                return True\n",
        "                        return False\n",
        "\n",
        "                    index = self.children_list.index(l)\n",
        "                    if (self.children_list[index].is_exist(word2)):\n",
        "                        return True\n",
        "                    else:\n",
        "\n",
        "                        return False\n",
        "        if (word[0] == self.letter):  # אם האות  הראשונה של המילה שווה לאות של הנוד\n",
        "\n",
        "            word = word[1:]\n",
        "            if (len(word) == 0):  # אם זו האות האחרונה\n",
        "                for j in self.children_list:  # נבדוק שאכן מסומנת כסוף מילה\n",
        "                    if (j.letter == \"*\"):\n",
        "                        return True\n",
        "                return False  # אם לא מסומנת כסוף מילה נחזיר שלא קיימת\n",
        "            for j in self.children_list:\n",
        "                if (j.letter == word[0]):\n",
        "                    if (len(word[1:]) == 0):\n",
        "                        flag = 0\n",
        "                        for k in j.children_list:\n",
        "                            if (k.letter == \"*\"):\n",
        "                                return True\n",
        "                        return False\n",
        "                    index = self.children_list.index(j)\n",
        "                    if (self.children_list[index].is_exist(word)):\n",
        "                        return True\n",
        "\n",
        "        return False"
      ]
    },
    {
      "cell_type": "code",
      "source": [
        "\n",
        "a=TrieNode()\n",
        "a.insert(\"sami\")\n",
        "a.insert (\"uzi\")\n",
        "\n",
        "print(a.is_exist(\"uzi\"))\n",
        "print(a.is_exist(\"sami\"))\n",
        "print(a.is_exist(\"samir\"))\n",
        "print(a.is_exist(\"ami\"))\n",
        "print(a.is_exist(\"rami\"))\n",
        "\n"
      ],
      "metadata": {
        "colab": {
          "base_uri": "https://localhost:8080/"
        },
        "id": "n_G9F-ZoFy8x",
        "outputId": "0c751f5b-20af-4aba-fe7c-8935586b7a97"
      },
      "execution_count": null,
      "outputs": [
        {
          "output_type": "stream",
          "name": "stdout",
          "text": [
            "True\n",
            "True\n",
            "False\n",
            "False\n",
            "False\n"
          ]
        }
      ]
    }
  ],
  "metadata": {
    "colab": {
      "provenance": [],
      "authorship_tag": "ABX9TyO/6Hu1ZfW13E5NU8hOM07q",
      "include_colab_link": true
    },
    "kernelspec": {
      "display_name": "Python 3",
      "name": "python3"
    },
    "language_info": {
      "name": "python"
    }
  },
  "nbformat": 4,
  "nbformat_minor": 0
}